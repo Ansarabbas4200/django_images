{
  "nbformat": 4,
  "nbformat_minor": 0,
  "metadata": {
    "colab": {
      "provenance": [],
      "authorship_tag": "ABX9TyPZWDPXJySrGSju40gash1L",
      "include_colab_link": true
    },
    "kernelspec": {
      "name": "python3",
      "display_name": "Python 3"
    },
    "language_info": {
      "name": "python"
    }
  },
  "cells": [
    {
      "cell_type": "markdown",
      "metadata": {
        "id": "view-in-github",
        "colab_type": "text"
      },
      "source": [
        "<a href=\"https://colab.research.google.com/github/Ansarabbas4200/django_images/blob/main/image_handling.ipynb\" target=\"_parent\"><img src=\"https://colab.research.google.com/assets/colab-badge.svg\" alt=\"Open In Colab\"/></a>"
      ]
    },
    {
      "cell_type": "markdown",
      "source": [
        "## Handling images in Django"
      ],
      "metadata": {
        "id": "pdUzjxpHfRKS"
      }
    },
    {
      "cell_type": "code",
      "execution_count": null,
      "metadata": {
        "id": "KebwZogSfMkV"
      },
      "outputs": [],
      "source": [
        "''' in url file '''\n",
        "\n",
        "# import following libraries\n",
        "from django.contrib.staticfiles.urls import staticfiles_urlpatterns\n",
        "from django.conf.urls.static import static\n",
        "from django.conf import settings\n",
        "\n",
        "\n",
        "# Add this code block at bottom\n",
        "if settings.DEBUG:\n",
        "    urlpatterns += static(settings.MEDIA_URL, document_root=settings.MEDIA_ROOT)\n",
        "\n",
        "urlpatterns += staticfiles_urlpatterns()\n"
      ]
    },
    {
      "cell_type": "markdown",
      "source": [
        "### at the end of setting file add following codeblock"
      ],
      "metadata": {
        "id": "fJElGYQSgkwg"
      }
    },
    {
      "cell_type": "code",
      "source": [
        "import os\n",
        "\n",
        "STATIC_URL = '/static/'\n",
        "STATIC_ROOT = os.path.join(BASE_DIR, 'staticfiles')\n",
        "\n",
        "STATICFILES_DIR = {\n",
        "    os.path.join(BASE_DIR, \"public/static\")\n",
        "}\n",
        "\n",
        "MEDIA_ROOT = os.path.join(BASE_DIR, 'public/static')\n",
        "MEDIA_URL = '/media/'"
      ],
      "metadata": {
        "id": "08QqvI7OgaE-"
      },
      "execution_count": null,
      "outputs": []
    }
  ]
}